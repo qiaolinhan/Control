{
 "cells": [
  {
   "cell_type": "markdown",
   "metadata": {},
   "source": [
    "# Control Package_Learn\n",
    "First, install the packages  \n",
    "```\n",
    "conda install numpy scipy matplotlib    # if not yet installed\n",
    "conda install -c conda-forge control\n",
    "```\n",
    "\n"
   ]
  },
  {
   "cell_type": "code",
   "execution_count": 10,
   "metadata": {},
   "outputs": [],
   "source": [
    "from control.matlab import *\n",
    "# from control import *\n",
    "import matplotlib.pyplot as plt\n",
    "import scipy as sp"
   ]
  },
  {
   "cell_type": "markdown",
   "metadata": {},
   "source": [
    "## 1 LTI System\n",
    "Linear time invariant(LTI) systems are represented in python-control in state space, transfer function, or frequency response data(FRD) form.  \n",
    "### State Space System\n",
    "We can use the class: `StateSpace` to represent state-space realizatios of linear time-invariant(LTI) systems:  \n",
    "\\begin{align}\n",
    "\\frac{dx}{dy} &= Ax+Bu\\\\\n",
    "y &= Cx+Du\n",
    "\\end{align}\n",
    "Where $u$ is the input, $x$ is the state and $y$ is the output.  "
   ]
  },
  {
   "cell_type": "code",
   "execution_count": 7,
   "metadata": {},
   "outputs": [],
   "source": [
    "A = [[1, 2],[1, 2]]\n",
    "B = [[1],[0]]\n",
    "C = [[1, 0], [0, 1]]\n",
    "D = [[0], [0]]\n",
    "sys = ss(A, B, C, D) # A,B,C,D are matrics"
   ]
  },
  {
   "cell_type": "markdown",
   "metadata": {},
   "source": [
    "`ss(A, B, C, D, dt)` to create a discrete-time state space system for the matrices of its state and output equations:  \n",
    "\\begin{align}\n",
    "x[k+1] &=A\\cdot x[k]+B\\cdot u[k] \\\\\n",
    "y[k]   &=c\\cdot x[k]+D\\cdot u[k]\n",
    "\\end{align}"
   ]
  },
  {
   "cell_type": "markdown",
   "metadata": {},
   "source": [
    "https://python-control.readthedocs.io/en/0.8.1/control.html#function-ref"
   ]
  },
  {
   "cell_type": "markdown",
   "metadata": {},
   "source": [
    "### Transfer functions\n",
    "Use the class: `TransferFunction` to represent input/output transfer functions  \n",
    "\\begin{equation}\n",
    "G(s) = \\frac{\\text{num}(s)}{\\text{den}(s)}=\\frac{a_0 s^m+a_1 s^{m-1}+\\cdots+a_m}{b_0 s^n+b_1 s^{n-1}+\\cdots+b_n}\n",
    "\\end{equation}\n",
    "Where $n$ is generally greater than or euqal to m (for a proper tranfer funtion)."
   ]
  },
  {
   "cell_type": "code",
   "execution_count": 4,
   "metadata": {},
   "outputs": [],
   "source": [
    "num = [1, 2, 8]\n",
    "den = [1, 2, 3, 4, 5]\n",
    "sys = TransferFunction(num, den)\n",
    "Csys = feedback(sys, -1)"
   ]
  },
  {
   "cell_type": "code",
   "execution_count": null,
   "metadata": {},
   "outputs": [],
   "source": [
    "sys = tf2ss(sys)"
   ]
  },
  {
   "cell_type": "code",
   "execution_count": 1,
   "metadata": {},
   "outputs": [
    {
     "ename": "NameError",
     "evalue": "name 'sys' is not defined",
     "output_type": "error",
     "traceback": [
      "\u001b[0;31m---------------------------------------------------------------------------\u001b[0m",
      "\u001b[0;31mNameError\u001b[0m                                 Traceback (most recent call last)",
      "\u001b[0;32m<ipython-input-1-7a51ce427d93>\u001b[0m in \u001b[0;36m<module>\u001b[0;34m()\u001b[0m\n\u001b[0;32m----> 1\u001b[0;31m \u001b[0msys\u001b[0m\u001b[0;34m\u001b[0m\u001b[0m\n\u001b[0m",
      "\u001b[0;31mNameError\u001b[0m: name 'sys' is not defined"
     ]
    }
   ],
   "source": [
    "sys"
   ]
  },
  {
   "cell_type": "code",
   "execution_count": 12,
   "metadata": {},
   "outputs": [
    {
     "data": {
      "text/latex": [
       "$$\\frac{s^2 + 2 s + 8}{s^4 + 2 s^3 + 2 s^2 + 2 s - 3}$$"
      ],
      "text/plain": [
       "\n",
       "        s^2 + 2 s + 8\n",
       "-----------------------------\n",
       "s^4 + 2 s^3 + 2 s^2 + 2 s - 3"
      ]
     },
     "execution_count": 12,
     "metadata": {},
     "output_type": "execute_result"
    }
   ],
   "source": [
    "Csys # feedback(sys1,[sys2, sign])"
   ]
  },
  {
   "cell_type": "markdown",
   "metadata": {},
   "source": [
    "### FRD systems\n",
    "frequency resonse data (FRD) use the class `FRD`.  \n",
    "The main data members are omega and fresp, where omega is a 1D array with the frequency points of the response, and fresp is a 3D array, with the first dimension corresponding to the output index of the FRD, the second dimension corresponding to the input index, and the 3rd dimension corresponding to the frequency points in omega."
   ]
  },
  {
   "cell_type": "markdown",
   "metadata": {},
   "source": [
    "### Discrete time system\n",
    "* dt = None: no timebase specified (default)  \n",
    "* dt = 0: continuous time system\n",
    "* dt > 0: discrete time system with sampling period 'dt'  \n",
    "* dt = True: discrete time eith unspecified sampling period"
   ]
  },
  {
   "cell_type": "markdown",
   "metadata": {},
   "source": [
    "### Conversion between representations\n",
    "LTI systems can be converted between representations by functions: `ss2tf()`, `tf2ss()`"
   ]
  },
  {
   "cell_type": "markdown",
   "metadata": {},
   "source": [
    "## 2 Time series data\n",
    "Types:  \n",
    "* **Argumets** can be **arrays, matrices**, or **nested lists**.  \n",
    "* **Return values** are **arrays** (not matrices).  \n",
    "\n",
    "The time vetor is 1D or 2D with shape (1, n)"
   ]
  },
  {
   "cell_type": "code",
   "execution_count": 1,
   "metadata": {},
   "outputs": [],
   "source": [
    "# T = [[t1, t2, t3, ..., tn]]"
   ]
  },
  {
   "cell_type": "code",
   "execution_count": 9,
   "metadata": {},
   "outputs": [
    {
     "data": {
      "text/plain": [
       "[<matplotlib.lines.Line2D at 0x7f1c718c1f98>,\n",
       " <matplotlib.lines.Line2D at 0x7f1c718ca240>]"
      ]
     },
     "execution_count": 9,
     "metadata": {},
     "output_type": "execute_result"
    },
    {
     "data": {
      "image/png": "[encoded data removed]",
      "text/plain": [
       "<Figure size 432x288 with 1 Axes>"
      ]
     },
     "metadata": {},
     "output_type": "display_data"
    }
   ],
   "source": [
    "t, y = step(sys)\n",
    "plt.plot(t, y)"
   ]
  },
  {
   "cell_type": "code",
   "execution_count": 12,
   "metadata": {},
   "outputs": [],
   "source": [
    "sys1 = ss(\"1. -2; 3. -4\", \"5.; 7\", \"6, 8\", \"9.\")\n",
    "sys2 = ss(\"-1.\", \"1.\", \"1.\", \"0.\")\n",
    "sys = append(sys1, sys2)\n",
    "Q = sp.mat([ [ 1, 2], [2, -1] ]) # basically feedback, output 2 in 1\n",
    "sysc = connect(sys, Q, [2], [1, 2])"
   ]
  },
  {
   "cell_type": "code",
   "execution_count": 14,
   "metadata": {},
   "outputs": [
    {
     "data": {
      "text/plain": [
       "[<matplotlib.lines.Line2D at 0x7f1c717c9a20>,\n",
       " <matplotlib.lines.Line2D at 0x7f1c717c9be0>]"
      ]
     },
     "execution_count": 14,
     "metadata": {},
     "output_type": "execute_result"
    },
    {
     "data": {
      "image/png": "[encoded data removed]",
      "text/plain": [
       "<Figure size 432x288 with 1 Axes>"
      ]
     },
     "metadata": {},
     "output_type": "display_data"
    }
   ],
   "source": [
    "t, y = step(sysc)\n",
    "plt.plot(t, y)"
   ]
  },
  {
   "cell_type": "code",
   "execution_count": null,
   "metadata": {},
   "outputs": [],
   "source": []
  }
 ],
 "metadata": {
  "kernelspec": {
   "display_name": "Python 3",
   "language": "python",
   "name": "python3"
  },
  "language_info": {
   "codemirror_mode": {
    "name": "ipython",
    "version": 3
   },
   "file_extension": ".py",
   "mimetype": "text/x-python",
   "name": "python",
   "nbconvert_exporter": "python",
   "pygments_lexer": "ipython3",
   "version": "3.6.6"
  }
 },
 "nbformat": 4,
 "nbformat_minor": 2
}
