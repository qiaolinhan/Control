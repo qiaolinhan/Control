{
 "cells": [
  {
   "cell_type": "markdown",
   "metadata": {},
   "source": [
    "### Sliding Surface Design\n",
    "3 kinds of sliding surfaces:\n",
    "* linear sliding surface\n",
    "* integral sliding surface\n",
    "* terminal sliding surface\n",
    "\n",
    "#### 1. Linear sliding Surface\n",
    "sinlicity of implementation $ \\rightarrow $ commonly used in SMC design  \n",
    "There are 2 approaches to design linear sliding surface  \n",
    "##### Regular Form\n",
    "Consider nonlinear system:  \n",
    "$ \\dot x(t)=f(x,t)+B(x,t)u(t) $  \n",
    "Where $ f(x,t)\\in \\mathbf{R}^n $ and $ B(x,t)\\in\\mathbf{R}^m$ are assumed to be continuous with bounded continuous derivatives with respect to $ x $. $ B(x,t) $ is bouned away from zero at any time.  \n",
    "Applying an appropriate diffeomorphic transformation\n",
    "\\begin{align}\n",
    "z(t)=\\left[\\begin{array}{c}z_1(t)\\\\ z_2(t)\\\\\\end{array}\\right]=Tx(t)\n",
    "\\end{align}  \n",
    "The system can be written as  \n",
    "\\begin{equation}\n",
    "\\left[\n",
    "\\begin{array}{cc}\n",
    "\\dot z_1(t)\\\\\\dot z_2(t)\\\\\n",
    "\\end{array}\n",
    "\\right]=\n",
    "\\left[\n",
    "\\begin{array}{cc}\\hat f_1(z,t)\\\\\\hat f_2(z,t)\\\\\n",
    "\\end{array}\n",
    "\\right]+\n",
    "\\left[\n",
    "\\begin{array}{cc}\n",
    "0\\\\\n",
    "\\hat B_1(z,t)\n",
    "\\end{array}\n",
    "\\right] u(t)\n",
    "\\end{equation}\n",
    "Design a switching function as $ s(z)=z_2(t)+h(z_1(t)) $, $ s(z)=0 $, thus $ z_2(t)=-h(z_1(t)) $  \n",
    "For a linear time-invariant (LTI) system of the form\n",
    "$ \\dot x(t)=Ax(t)+Bu(t) $  \n",
    "The matrix $ B $ is assumed to have full column rank and the pair $ (A,B) $ is assumed to be controllable.\n",
    "it is well known that for the controllable system (1.3) there exists a nonsingular transformation.\n",
    "* Sliding mode dynamics reduced order\n",
    "\n",
    "#### 2. Integral Sliding Surface\n",
    "The order of the linear sliding mode dynamics is ($ n-m $), with $ n $ being the dimension of the state space and $ m $ being the dimendion of the control input.    \n",
    "The integrial sliding surface, the order of the sliding motion euation is the same as that of the original system, rather than being reduced by the dimension of the control input-->`The robustness of the system can be guaranteed throughout an entire response of the system starting from the initial time instance`.  \n",
    "\\begin{equation}\\dot x(t)=Ax(t)+B(u(t)+d(x,t))\\end{equation}  \n",
    "Where $ d(x,t) $ is a nonlinear perturbation with known upper bound $ d_o(x,t) $, that is $ |d(x,t)|<d_o(x,t) $.  \n",
    "$ u_o(t) $-->linear feedback control $ u_o(t)=Ku(t) $  \n",
    "Design integrial switching function as\n",
    "\\begin{equation}\n",
    "s(x)=Cx(t)-Cx(t_0)-C\\int_{t}^{0}(A+BK)x(\\tau)dt\n",
    "\\end{equation}\n",
    "Where $ C $ is the parameter matrix-->$ CB $ nonsingular.  \n",
    "When $ t=t_0 $, $ s(x)|_{t=t_{0}}=0 $-->"
   ]
  },
  {
   "cell_type": "code",
   "execution_count": null,
   "metadata": {},
   "outputs": [],
   "source": []
  }
 ],
 "metadata": {
  "kernelspec": {
   "display_name": "Python 3",
   "language": "python",
   "name": "python3"
  },
  "language_info": {
   "codemirror_mode": {
    "name": "ipython",
    "version": 3
   },
   "file_extension": ".py",
   "mimetype": "text/x-python",
   "name": "python",
   "nbconvert_exporter": "python",
   "pygments_lexer": "ipython3",
   "version": "3.6.6"
  }
 },
 "nbformat": 4,
 "nbformat_minor": 2
}
